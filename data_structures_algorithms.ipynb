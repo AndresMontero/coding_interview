{
 "cells": [
  {
   "cell_type": "markdown",
   "id": "35990bf5-8e29-4629-8936-f33e5df15930",
   "metadata": {},
   "source": [
    "# Stack"
   ]
  },
  {
   "cell_type": "code",
   "execution_count": 1,
   "id": "60da57cf-4daf-47ae-9f30-b736c33e5f79",
   "metadata": {},
   "outputs": [],
   "source": [
    "from collections import deque\n"
   ]
  },
  {
   "cell_type": "code",
   "execution_count": 2,
   "id": "b7a14dc1-516e-4c77-84b4-56a463a79ecb",
   "metadata": {},
   "outputs": [],
   "source": [
    "class Stack:\n",
    "    def __init__(self):\n",
    "        self.container = deque()\n",
    "    \n",
    "    def push(self,val):\n",
    "        self.container.append(val)\n",
    "        \n",
    "    def pop(self):\n",
    "        return self.container.pop()\n",
    "    \n",
    "    def peek(self):\n",
    "        return  self.container[-1]\n",
    "    \n",
    "    def is_empty(self):\n",
    "        return len(self.container)==0\n",
    "    \n",
    "    def size(self):\n",
    "        return len(self.container)"
   ]
  },
  {
   "cell_type": "code",
   "execution_count": 3,
   "id": "1289ee6f-3025-4863-b647-1204aebfc801",
   "metadata": {},
   "outputs": [],
   "source": [
    "def reverse_string(text):\n",
    "    \n",
    "    stack = Stack()    \n",
    "    for c in text:\n",
    "        stack.push(c)\n",
    "    result = ''\n",
    "    while not stack.is_empty():\n",
    "        result += stack.pop()\n",
    "        \n",
    "    return result"
   ]
  },
  {
   "cell_type": "code",
   "execution_count": 4,
   "id": "4cf4475f-f879-4614-9812-c6529683d04b",
   "metadata": {},
   "outputs": [
    {
     "name": "stdout",
     "output_type": "stream",
     "text": [
      "['S']\n",
      "['S', 'o']\n",
      "['S', 'o', 'y']\n",
      "['S', 'o', 'y', ' ']\n",
      "['S', 'o', 'y', ' ', 'u']\n",
      "['S', 'o', 'y', ' ', 'u', 'n']\n",
      "['S', 'o', 'y', ' ', 'u', 'n', ' ']\n",
      "['S', 'o', 'y', ' ', 'u', 'n', ' ', 'b']\n",
      "['S', 'o', 'y', ' ', 'u', 'n', ' ', 'b', 'o']\n",
      "['S', 'o', 'y', ' ', 'u', 'n', ' ', 'b', 'o', 'l']\n",
      "['S', 'o', 'y', ' ', 'u', 'n', ' ', 'b', 'o', 'l', 'u']\n",
      "['S', 'o', 'y', ' ', 'u', 'n', ' ', 'b', 'o', 'l', 'u', 'd']\n",
      "['S', 'o', 'y', ' ', 'u', 'n', ' ', 'b', 'o', 'l', 'u', 'd', 'o']\n"
     ]
    }
   ],
   "source": [
    "test = []\n",
    "\n",
    "text = \"Soy un boludo\"\n",
    "\n",
    "for c in text:\n",
    "    test.append(c)\n",
    "    print(test)"
   ]
  },
  {
   "cell_type": "code",
   "execution_count": 5,
   "id": "44180d93-5c74-43b1-9ac3-a300c598ae79",
   "metadata": {},
   "outputs": [
    {
     "name": "stdout",
     "output_type": "stream",
     "text": [
      "o\n",
      "d\n",
      "u\n",
      "l\n",
      "o\n",
      "b\n",
      " \n",
      "n\n",
      "u\n",
      " \n",
      "y\n",
      "o\n",
      "S\n"
     ]
    }
   ],
   "source": [
    "while len(test)>0:\n",
    "    print(test.pop())"
   ]
  },
  {
   "cell_type": "code",
   "execution_count": 6,
   "id": "76505ee8-ccc3-4fdd-bf32-d3aeecb628f1",
   "metadata": {},
   "outputs": [
    {
     "data": {
      "text/plain": [
       "'91-DIVOC ereuqnoc lliw eW'"
      ]
     },
     "execution_count": 6,
     "metadata": {},
     "output_type": "execute_result"
    }
   ],
   "source": [
    "reverse_string(\"We will conquere COVID-19\")"
   ]
  },
  {
   "cell_type": "code",
   "execution_count": 7,
   "id": "049c124f-1ff9-4f85-9b6c-f1532a2ad3b6",
   "metadata": {},
   "outputs": [],
   "source": [
    "def is_match(ch1, ch2):\n",
    "    match_dict = {\n",
    "        ')': '(',\n",
    "        ']': '[',\n",
    "        '}': '{'\n",
    "    }\n",
    "    return match_dict[ch1] == ch2\n",
    "\n",
    "\n",
    "def is_balanced(s):\n",
    "    stack = Stack()\n",
    "    for ch in s:\n",
    "        if ch=='(' or ch=='{' or ch == '[':\n",
    "            stack.push(ch)\n",
    "        if ch==')' or ch=='}' or ch == ']':\n",
    "            if stack.size()==0:\n",
    "                return False\n",
    "            if not is_match(ch,stack.pop()):\n",
    "                return False\n",
    "\n",
    "    return stack.size()==0"
   ]
  },
  {
   "cell_type": "code",
   "execution_count": 8,
   "id": "7920ac1c-2d44-4430-a9ee-203f092da583",
   "metadata": {},
   "outputs": [],
   "source": [
    "def is_balanced(text):\n",
    "    stack = Stack()\n",
    "    mapping = {\")\": \"(\", \"}\": \"{\", \"]\": \"[\"}\n",
    "    \n",
    "    for c in text:\n",
    "        if c == '(' or c == '[' or c =='{':\n",
    "            stack.push(c)\n",
    "        if c == ')' or c == ']' or c =='}':\n",
    "            if stack.is_empty():\n",
    "                return False\n",
    "            else:\n",
    "                if mapping[c] != stack.pop():\n",
    "                    return False\n",
    "        \n",
    "    if stack.is_empty():\n",
    "        return True\n",
    "    else:\n",
    "        return False"
   ]
  },
  {
   "cell_type": "code",
   "execution_count": 9,
   "id": "7d9f0263-2132-452d-83bf-208976896d67",
   "metadata": {},
   "outputs": [
    {
     "data": {
      "text/plain": [
       "True"
      ]
     },
     "execution_count": 9,
     "metadata": {},
     "output_type": "execute_result"
    }
   ],
   "source": [
    "is_balanced(\"({a+b})\")"
   ]
  },
  {
   "cell_type": "code",
   "execution_count": 10,
   "id": "f570c918-5b15-4429-b0ed-4c54dc11d094",
   "metadata": {},
   "outputs": [
    {
     "data": {
      "text/plain": [
       "False"
      ]
     },
     "execution_count": 10,
     "metadata": {},
     "output_type": "execute_result"
    }
   ],
   "source": [
    "is_balanced(\"))((a+b}{\")   \n"
   ]
  },
  {
   "cell_type": "code",
   "execution_count": 11,
   "id": "63abf92c-623b-48ac-8b03-658e3771271d",
   "metadata": {},
   "outputs": [
    {
     "data": {
      "text/plain": [
       "True"
      ]
     },
     "execution_count": 11,
     "metadata": {},
     "output_type": "execute_result"
    }
   ],
   "source": [
    "is_balanced(\"((a+b))\")    \n"
   ]
  },
  {
   "cell_type": "code",
   "execution_count": 12,
   "id": "a03f3b98-9bea-4b53-b749-14183b25fa0f",
   "metadata": {},
   "outputs": [
    {
     "data": {
      "text/plain": [
       "False"
      ]
     },
     "execution_count": 12,
     "metadata": {},
     "output_type": "execute_result"
    }
   ],
   "source": [
    "is_balanced(\"))\")\n"
   ]
  },
  {
   "cell_type": "code",
   "execution_count": 13,
   "id": "bb9a1044-dbf6-4e3d-acae-4a248f1a14a3",
   "metadata": {},
   "outputs": [
    {
     "data": {
      "text/plain": [
       "False"
      ]
     },
     "execution_count": 13,
     "metadata": {},
     "output_type": "execute_result"
    }
   ],
   "source": [
    "is_balanced(\")(\")"
   ]
  },
  {
   "cell_type": "code",
   "execution_count": 14,
   "id": "3944dd53-3498-4240-9657-2216b8f5de8c",
   "metadata": {},
   "outputs": [
    {
     "data": {
      "text/plain": [
       "True"
      ]
     },
     "execution_count": 14,
     "metadata": {},
     "output_type": "execute_result"
    }
   ],
   "source": [
    "is_balanced(\"[a+b]*(x+2y)*{gg+kk}\") \n"
   ]
  },
  {
   "cell_type": "markdown",
   "id": "31e3cb09-54f2-4290-a682-2286c536f6f2",
   "metadata": {},
   "source": [
    "# Queue"
   ]
  },
  {
   "cell_type": "code",
   "execution_count": 15,
   "id": "f508fd02-d421-4af2-932b-49bd1dd3864f",
   "metadata": {},
   "outputs": [],
   "source": [
    "from collections import deque\n",
    "\n",
    "class Queue:\n",
    "    \n",
    "    def __init__(self):\n",
    "        self.buffer = deque()\n",
    "    \n",
    "    def enqueue(self, val):\n",
    "        self.buffer.appendleft(val) # sames as insert(0)\n",
    "        \n",
    "    def dequeue(self):\n",
    "        return self.buffer.pop()\n",
    "    \n",
    "    def is_empty(self):\n",
    "        return len(self.buffer)==0\n",
    "    \n",
    "    def size(self):\n",
    "        return len(self.buffer)\n",
    "    \n",
    "    def front(self):\n",
    "        return self.buffer[-1]"
   ]
  },
  {
   "cell_type": "code",
   "execution_count": 16,
   "id": "426c4552-6add-4218-82e7-b6bafda2942b",
   "metadata": {},
   "outputs": [],
   "source": [
    "import time \n",
    "import threading\n"
   ]
  },
  {
   "cell_type": "code",
   "execution_count": 17,
   "id": "e986de09-2fc5-49f9-b743-2c3fb701d9f2",
   "metadata": {},
   "outputs": [],
   "source": [
    "def place_order(orders, queue):\n",
    "    for order in orders:\n",
    "        print(f\"Adding order {order}, queue is {queue.size()}\\n\")\n",
    "        queue.enqueue(order)\n",
    "        time.sleep(0.5)\n",
    "        \n",
    "        \n",
    "def serve_order(queue):\n",
    "    time.sleep(1)\n",
    "    while queue.size() > 0:\n",
    "        print(f\"Popping order {queue.dequeue()} queue is {queue.size()}\\n\")\n",
    "        time.sleep(2)\n",
    "        \n",
    "        "
   ]
  },
  {
   "cell_type": "code",
   "execution_count": 18,
   "id": "83b85114-245e-4944-8db0-6ea6f3adb91c",
   "metadata": {},
   "outputs": [],
   "source": [
    "orders = ['pizza','samosa','pasta','biryani','burger']\n",
    "queue = Queue()\n"
   ]
  },
  {
   "cell_type": "code",
   "execution_count": 19,
   "id": "25984f97-9cde-4ee7-adfe-171500deab15",
   "metadata": {},
   "outputs": [
    {
     "name": "stdout",
     "output_type": "stream",
     "text": [
      "Adding order pizza, queue is 0\n",
      "\n",
      "Adding order samosa, queue is 1\n",
      "\n",
      "Popping order pizza queue is 1\n",
      "\n",
      "Adding order pasta, queue is 1\n",
      "\n",
      "Adding order biryani, queue is 2\n",
      "\n",
      "Adding order burger, queue is 3\n",
      "\n",
      "Popping order samosa queue is 3\n",
      "\n",
      "Popping order pasta queue is 2\n",
      "\n",
      "Popping order biryani queue is 1\n",
      "\n",
      "Popping order burger queue is 0\n",
      "\n"
     ]
    }
   ],
   "source": [
    "t1 = threading.Thread(target=place_order, args=(orders, queue))\n",
    "t2 = threading.Thread(target=serve_order, args=(queue,))\n",
    "\n",
    "t1.start()\n",
    "t2.start()\n",
    "\n",
    "t1.join()\n",
    "t2.join()"
   ]
  },
  {
   "cell_type": "markdown",
   "id": "82aa795f-db8b-404e-9d93-3106f814b8c7",
   "metadata": {},
   "source": [
    "#### Print Binary Numbers"
   ]
  },
  {
   "cell_type": "code",
   "execution_count": 32,
   "id": "e80aab4f-22aa-4a7b-8ce4-0221dc56f219",
   "metadata": {},
   "outputs": [
    {
     "name": "stdout",
     "output_type": "stream",
     "text": [
      "1\n",
      "10\n",
      "11\n",
      "100\n",
      "101\n",
      "110\n",
      "111\n",
      "1000\n",
      "1001\n",
      "1010\n"
     ]
    }
   ],
   "source": [
    "binary_q = Queue()\n",
    "\n",
    "if binary_q.size() == 0:\n",
    "    binary_q.enqueue(\"1\")\n",
    "\n",
    "n = 10 \n",
    "\n",
    "for i in range(n):\n",
    "    front = binary_q.front()\n",
    "    binary_q.enqueue(front + \"0\")\n",
    "    binary_q.enqueue(front + \"1\")\n",
    "    print(binary_q.dequeue())\n"
   ]
  },
  {
   "cell_type": "markdown",
   "id": "a78ff774-6413-4eaf-b08e-1e0a7eae62c5",
   "metadata": {},
   "source": [
    "# Trees"
   ]
  },
  {
   "cell_type": "code",
   "execution_count": 33,
   "id": "de0aa24d-274c-414b-8f8e-52f7ee2dd424",
   "metadata": {},
   "outputs": [
    {
     "name": "stdout",
     "output_type": "stream",
     "text": [
      "Electronics\n",
      "   |__Laptop\n",
      "      |__Mac\n",
      "      |__Surface\n",
      "      |__Thinkpad\n",
      "   |__Cell Phone\n",
      "      |__iPhone\n",
      "      |__Google Pixel\n",
      "      |__Vivo\n",
      "   |__TV\n",
      "      |__Samsung\n",
      "      |__LG\n"
     ]
    }
   ],
   "source": [
    "class TreeNode:\n",
    "    def __init__(self, data):\n",
    "        self.data = data\n",
    "        self.children = []\n",
    "        self.parent = None\n",
    "\n",
    "    def get_level(self):\n",
    "        level = 0\n",
    "        p = self.parent\n",
    "        while p:\n",
    "            level += 1\n",
    "            p = p.parent\n",
    "\n",
    "        return level\n",
    "\n",
    "    def print_tree(self):\n",
    "        spaces = ' ' * self.get_level() * 3\n",
    "        prefix = spaces + \"|__\" if self.parent else \"\"\n",
    "        print(prefix + self.data)\n",
    "        if self.children:\n",
    "            for child in self.children:\n",
    "                child.print_tree()\n",
    "\n",
    "    def add_child(self, child):\n",
    "        child.parent = self\n",
    "        self.children.append(child)\n",
    "\n",
    "def build_product_tree():\n",
    "    root = TreeNode(\"Electronics\")\n",
    "\n",
    "    laptop = TreeNode(\"Laptop\")\n",
    "    laptop.add_child(TreeNode(\"Mac\"))\n",
    "    laptop.add_child(TreeNode(\"Surface\"))\n",
    "    laptop.add_child(TreeNode(\"Thinkpad\"))\n",
    "\n",
    "    cellphone = TreeNode(\"Cell Phone\")\n",
    "    cellphone.add_child(TreeNode(\"iPhone\"))\n",
    "    cellphone.add_child(TreeNode(\"Google Pixel\"))\n",
    "    cellphone.add_child(TreeNode(\"Vivo\"))\n",
    "\n",
    "    tv = TreeNode(\"TV\")\n",
    "    tv.add_child(TreeNode(\"Samsung\"))\n",
    "    tv.add_child(TreeNode(\"LG\"))\n",
    "\n",
    "    root.add_child(laptop)\n",
    "    root.add_child(cellphone)\n",
    "    root.add_child(tv)\n",
    "\n",
    "    root.print_tree()\n",
    "\n",
    "if __name__ == '__main__':\n",
    "    build_product_tree()"
   ]
  },
  {
   "cell_type": "code",
   "execution_count": 49,
   "id": "5239dfb4-098e-48fa-a133-a77489ec20b4",
   "metadata": {},
   "outputs": [
    {
     "name": "stdout",
     "output_type": "stream",
     "text": [
      "Nilipul\n",
      "   |__Chinmay\n",
      "      |__Vishwa\n",
      "         |__Dhaval\n",
      "         |__Abhijit\n",
      "      |__Aamir\n",
      "   |__Gels\n",
      "      |__Peter\n",
      "      |__Wagas\n"
     ]
    }
   ],
   "source": [
    "class TreeNode:\n",
    "    def __init__(self, name, designation):\n",
    "        self.data = {name: designation}\n",
    "        self.children = []\n",
    "        self.parent = None\n",
    "\n",
    "    def get_level(self):\n",
    "        level = 0\n",
    "        p = self.parent\n",
    "        while p:\n",
    "            level += 1\n",
    "            p = p.parent\n",
    "\n",
    "        return level\n",
    "\n",
    "    def print_tree(self, choice, level_limit=0):\n",
    "        curr_level = self.get_level()\n",
    "        if curr_level <= level_limit: \n",
    "            spaces = ' ' * curr_level * 3\n",
    "            prefix = spaces + \"|__\" if self.parent else \"\"\n",
    "\n",
    "            if choice == 'name':\n",
    "                print(prefix + [key for key in self.data.keys()][0])\n",
    "\n",
    "            elif choice == 'designation':\n",
    "                print(prefix + [key for key in self.data.values()][0] )\n",
    "\n",
    "            else:\n",
    "                print(prefix + [key for key in self.data.keys()][0] + '-' + [key for key in self.data.values()][0])\n",
    "\n",
    "\n",
    "            if self.children:\n",
    "                for child in self.children:\n",
    "                    child.print_tree(choice, level_limit)\n",
    "\n",
    "    def add_child(self, child):\n",
    "        child.parent = self\n",
    "        self.children.append(child)\n",
    "\n",
    "def build_product_tree():\n",
    "    root = TreeNode(\"Nilipul\", \"CEO\")\n",
    "\n",
    "    technolgy = TreeNode(\"Chinmay\",\"CTO\")\n",
    "    infra_head = TreeNode(\"Vishwa\",\"Infrastructure Head\")\n",
    "    infra_head.add_child(TreeNode(\"Dhaval\", \"Cloud Manager\"))\n",
    "    infra_head.add_child(TreeNode(\"Abhijit\", \"App Manager\"))\n",
    "    technolgy.add_child(infra_head)\n",
    "    technolgy.add_child(TreeNode(\"Aamir\", \"Application Head\"))\n",
    "\n",
    "    hr = TreeNode(\"Gels\", \"HR Head\")\n",
    "    hr.add_child(TreeNode(\"Peter\", \"Recruitment Manager\"))\n",
    "    hr.add_child(TreeNode(\"Wagas\", \"Policy Manager\"))\n",
    "\n",
    "\n",
    "    root.add_child(technolgy)\n",
    "    root.add_child(hr)\n",
    "\n",
    "    root.print_tree('name', 4)\n",
    "\n",
    "if __name__ == '__main__':\n",
    "    build_product_tree()"
   ]
  },
  {
   "cell_type": "markdown",
   "id": "1abf43c8-bd41-46a7-b834-b0bbe35cb122",
   "metadata": {},
   "source": [
    "# Binary Search Tree"
   ]
  },
  {
   "cell_type": "code",
   "execution_count": 64,
   "id": "6b9299d8-faf4-4f5e-b61d-8dbbfdd2d74d",
   "metadata": {},
   "outputs": [],
   "source": [
    "class BinarySearchTreeNode:\n",
    "    def __init__(self, data):\n",
    "        self.data = data\n",
    "        self.left = None\n",
    "        self.right = None\n",
    "\n",
    "    def add_child(self, data):\n",
    "        if data == self.data:\n",
    "            return # node already exist\n",
    "\n",
    "        if data < self.data:\n",
    "            if self.left:\n",
    "                self.left.add_child(data)\n",
    "            else:\n",
    "                self.left = BinarySearchTreeNode(data)\n",
    "        else:\n",
    "            if self.right:\n",
    "                self.right.add_child(data)\n",
    "            else:\n",
    "                self.right = BinarySearchTreeNode(data)\n",
    "\n",
    "\n",
    "    def search(self, val):\n",
    "        if self.data == val:\n",
    "            return True\n",
    "\n",
    "        if val < self.data:\n",
    "            if self.left:\n",
    "                return self.left.search(val)\n",
    "            else:\n",
    "                return False\n",
    "\n",
    "        if val > self.data:\n",
    "            if self.right:\n",
    "                return self.right.search(val)\n",
    "            else:\n",
    "                return False\n",
    "\n",
    "    def in_order_traversal(self):\n",
    "        elements = []\n",
    "        if self.left:\n",
    "            elements += self.left.in_order_traversal()\n",
    "\n",
    "        elements.append(self.data)\n",
    "\n",
    "        if self.right:\n",
    "            elements += self.right.in_order_traversal()\n",
    "\n",
    "        return elements\n",
    "    \n",
    "    def post_order_traversal(self):\n",
    "        elements = []\n",
    "        if self.left:\n",
    "            elements += self.left.post_order_traversal()\n",
    "\n",
    "        if self.right:\n",
    "            elements += self.right.post_order_traversal()\n",
    "            \n",
    "        elements.append(self.data)\n",
    "\n",
    "        return elements\n",
    "    \n",
    "    def pre_order_traversal(self):\n",
    "        elements = []\n",
    "        \n",
    "        elements.append(self.data)\n",
    "        \n",
    "        if self.left:\n",
    "            elements += self.left.pre_order_traversal()\n",
    "\n",
    "        if self.right:\n",
    "            elements += self.right.pre_order_traversal()\n",
    "\n",
    "        return elements\n",
    "    \n",
    "    def find_min(self):\n",
    "        if self.left:\n",
    "            return self.left.find_min()\n",
    "        else:\n",
    "            return self.data\n",
    "        \n",
    "    def find_max(self):\n",
    "        if self.right:\n",
    "            return self.right.find_max()\n",
    "        else:\n",
    "            return self.data\n",
    "    \n",
    "    def calculate_sum(self):\n",
    "        return sum(self.in_order_traversal())\n",
    "\n",
    "def build_tree(elements):\n",
    "    print(\"Building tree with these elements:\",elements)\n",
    "    root = BinarySearchTreeNode(elements[0])\n",
    "\n",
    "    for i in range(1,len(elements)):\n",
    "        root.add_child(elements[i])\n",
    "\n",
    "    return root"
   ]
  },
  {
   "cell_type": "code",
   "execution_count": 65,
   "id": "f0babd60-9098-4f88-b3fc-3f231685f432",
   "metadata": {},
   "outputs": [
    {
     "name": "stdout",
     "output_type": "stream",
     "text": [
      "Building tree with these elements: [15, 12, 7, 14, 27, 20, 23, 88]\n"
     ]
    }
   ],
   "source": [
    "numbers = [84, 102, 15, 1, 0, 10, 6, 5, 8, 98]\n",
    "numbers = [15,12,7,14,27,20,23,88 ]\n",
    "numbers_tree = build_tree(numbers)"
   ]
  },
  {
   "cell_type": "code",
   "execution_count": 66,
   "id": "84ccf1d5-90b5-4bc9-a668-7d596ce6e154",
   "metadata": {},
   "outputs": [
    {
     "data": {
      "text/plain": [
       "[7, 12, 14, 15, 20, 23, 27, 88]"
      ]
     },
     "execution_count": 66,
     "metadata": {},
     "output_type": "execute_result"
    }
   ],
   "source": [
    "numbers_tree.in_order_traversal()"
   ]
  },
  {
   "cell_type": "code",
   "execution_count": 67,
   "id": "31504740-4feb-4ed8-a5a5-07d1c57fba78",
   "metadata": {},
   "outputs": [
    {
     "data": {
      "text/plain": [
       "[7, 14, 12, 23, 20, 88, 27, 15]"
      ]
     },
     "execution_count": 67,
     "metadata": {},
     "output_type": "execute_result"
    }
   ],
   "source": [
    "numbers_tree.post_order_traversal()"
   ]
  },
  {
   "cell_type": "code",
   "execution_count": 68,
   "id": "2ca6a5e0-dcd9-49bb-80db-80566ae71fab",
   "metadata": {},
   "outputs": [
    {
     "data": {
      "text/plain": [
       "[15, 12, 7, 14, 27, 20, 23, 88]"
      ]
     },
     "execution_count": 68,
     "metadata": {},
     "output_type": "execute_result"
    }
   ],
   "source": [
    "numbers_tree.pre_order_traversal()"
   ]
  },
  {
   "cell_type": "code",
   "execution_count": 69,
   "id": "1412a5c0-867c-4945-8b2d-d59a704691d5",
   "metadata": {},
   "outputs": [
    {
     "data": {
      "text/plain": [
       "7"
      ]
     },
     "execution_count": 69,
     "metadata": {},
     "output_type": "execute_result"
    }
   ],
   "source": [
    "numbers_tree.find_min()"
   ]
  },
  {
   "cell_type": "code",
   "execution_count": 70,
   "id": "d1db0ea3-76ad-4ac6-ad81-5b9d3dff8bec",
   "metadata": {},
   "outputs": [
    {
     "data": {
      "text/plain": [
       "88"
      ]
     },
     "execution_count": 70,
     "metadata": {},
     "output_type": "execute_result"
    }
   ],
   "source": [
    "numbers_tree.find_max()"
   ]
  },
  {
   "cell_type": "code",
   "execution_count": 71,
   "id": "59d99427-1e2e-4779-8cb2-361f1d08ce84",
   "metadata": {},
   "outputs": [
    {
     "data": {
      "text/plain": [
       "206"
      ]
     },
     "execution_count": 71,
     "metadata": {},
     "output_type": "execute_result"
    }
   ],
   "source": [
    "numbers_tree.calculate_sum()"
   ]
  },
  {
   "cell_type": "code",
   "execution_count": 72,
   "id": "7a47e066-9dab-4431-b1b2-d9f889fb241c",
   "metadata": {},
   "outputs": [
    {
     "name": "stdout",
     "output_type": "stream",
     "text": [
      "Building tree with these elements: ['India', 'Pakistan', 'Germany', 'USA', 'China', 'India', 'UK', 'USA']\n",
      "UK is in the list?  True\n",
      "Sweden is in the list?  False\n",
      "Building tree with these elements: [17, 4, 1, 20, 9, 23, 18, 34]\n",
      "In order traversal gives this sorted list: [1, 4, 9, 17, 18, 20, 23, 34]\n"
     ]
    }
   ],
   "source": [
    "countries = [\"India\",\"Pakistan\",\"Germany\", \"USA\",\"China\",\"India\",\"UK\",\"USA\"]\n",
    "country_tree = build_tree(countries)\n",
    "\n",
    "print(\"UK is in the list? \", country_tree.search(\"UK\"))\n",
    "print(\"Sweden is in the list? \", country_tree.search(\"Sweden\"))\n",
    "\n",
    "numbers_tree = build_tree([17, 4, 1, 20, 9, 23, 18, 34])\n",
    "print(\"In order traversal gives this sorted list:\",numbers_tree.in_order_traversal())"
   ]
  },
  {
   "cell_type": "code",
   "execution_count": 41,
   "id": "384a369f-7863-4ea5-bfc1-d6db93b247f3",
   "metadata": {},
   "outputs": [
    {
     "data": {
      "text/plain": [
       "'China'"
      ]
     },
     "execution_count": 41,
     "metadata": {},
     "output_type": "execute_result"
    }
   ],
   "source": [
    "country_tree.find_min()"
   ]
  },
  {
   "cell_type": "code",
   "execution_count": 42,
   "id": "e939ee9e-b8d0-48a4-b3a1-201713233e40",
   "metadata": {},
   "outputs": [
    {
     "data": {
      "text/plain": [
       "'USA'"
      ]
     },
     "execution_count": 42,
     "metadata": {},
     "output_type": "execute_result"
    }
   ],
   "source": [
    "country_tree.find_max()"
   ]
  },
  {
   "cell_type": "code",
   "execution_count": null,
   "id": "47dedb0e-e7f5-446d-a29d-5c8feb34a802",
   "metadata": {},
   "outputs": [],
   "source": []
  }
 ],
 "metadata": {
  "kernelspec": {
   "display_name": "Python 3 (ipykernel)",
   "language": "python",
   "name": "python3"
  },
  "language_info": {
   "codemirror_mode": {
    "name": "ipython",
    "version": 3
   },
   "file_extension": ".py",
   "mimetype": "text/x-python",
   "name": "python",
   "nbconvert_exporter": "python",
   "pygments_lexer": "ipython3",
   "version": "3.7.11"
  }
 },
 "nbformat": 4,
 "nbformat_minor": 5
}
